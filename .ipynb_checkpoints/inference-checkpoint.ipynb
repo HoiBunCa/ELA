{
 "cells": [
  {
   "cell_type": "code",
   "execution_count": 5,
   "id": "940c3da6",
   "metadata": {},
   "outputs": [],
   "source": [
    "import os\n",
    "import sys\n",
    "from tqdm import tqdm\n",
    "\n",
    "from PIL import Image\n",
    "from PIL import ImageChops\n",
    "from PIL import ImageEnhance"
   ]
  },
  {
   "cell_type": "code",
   "execution_count": 17,
   "id": "ba2d0000",
   "metadata": {},
   "outputs": [
    {
     "name": "stderr",
     "output_type": "stream",
     "text": [
      "100%|████████████████████████████████████████████████████████████████████████████████████████████████████████████████████| 201/201 [01:17<00:00,  2.59it/s]\n"
     ]
    }
   ],
   "source": [
    "# for filename in tqdm(os.listdir('D:/Download/cmnd real/truoc')):\n",
    "#     basename, extension = os.path.splitext(filename)\n",
    "#     resaved = 'truoc_real/' + basename + '.resaved.jpg'\n",
    "#     ela = 'truoc_real/' + basename + '.ela.png'\n",
    "#     im = Image.open('D:/Download/cmnd real/truoc/' + filename)\n",
    "#     im.save(resaved, 'JPEG', quality=90)\n",
    "#     resaved_im = Image.open(resaved)\n",
    "\n",
    "#     ela_im = ImageChops.difference(im, resaved_im)\n",
    "#     extrema = ela_im.getextrema()\n",
    "#     max_diff = max([ex[1] for ex in extrema])\n",
    "#     scale = 255.0/max_diff\n",
    "\n",
    "#     ela_im = ImageEnhance.Brightness(ela_im).enhance(scale)\n",
    "\n",
    "# #     print('Maximum difference was {}'.format(max_diff))\n",
    "#     ela_im.save(ela)"
   ]
  },
  {
   "cell_type": "code",
   "execution_count": 19,
   "id": "f84aee8c",
   "metadata": {},
   "outputs": [
    {
     "name": "stderr",
     "output_type": "stream",
     "text": [
      "100%|██████████████████████████████████████████████████████████████████████████████████████████████████████████████████| 798/798 [00:00<00:00, 9530.50it/s]\n"
     ]
    }
   ],
   "source": [
    "# for filename in tqdm(os.listdir('D:/Code/Tima_Onbroading/ELA/sau_real')):\n",
    "#     if 'ela' not in filename:\n",
    "#         os.remove(\"D:/Code/Tima_Onbroading/ELA/sau_real/\" + filename)"
   ]
  },
  {
   "cell_type": "code",
   "execution_count": 1,
   "id": "7da043d4",
   "metadata": {},
   "outputs": [],
   "source": [
    "import torch\n",
    "import torch.nn as nn\n",
    "import torch.optim as optim\n",
    "from torch.optim import lr_scheduler\n",
    "import numpy as np\n",
    "import torchvision\n",
    "from torchvision import datasets, models, transforms\n",
    "import matplotlib.pyplot as plt\n",
    "import time\n",
    "import os\n",
    "import copy"
   ]
  },
  {
   "cell_type": "code",
   "execution_count": 7,
   "id": "4609d756",
   "metadata": {},
   "outputs": [],
   "source": [
    "model = torch.load(\"model_ela.pt\")"
   ]
  },
  {
   "cell_type": "code",
   "execution_count": 3,
   "id": "aab9c562",
   "metadata": {},
   "outputs": [
    {
     "data": {
      "text/plain": [
       "device(type='cpu')"
      ]
     },
     "execution_count": 3,
     "metadata": {},
     "output_type": "execute_result"
    }
   ],
   "source": [
    "# Data augmentation and normalization for training\n",
    "# Just normalization for validation\n",
    "data_transforms = transforms.Compose([\n",
    "    transforms.RandomResizedCrop(224),\n",
    "    transforms.RandomHorizontalFlip(),\n",
    "    transforms.ToTensor(),\n",
    "    transforms.Normalize([0.485, 0.456, 0.406], [0.229, 0.224, 0.225])\n",
    "])\n",
    "\n",
    "\n",
    "# device = torch.device(\"cuda:0\" if torch.cuda.is_available() else \"cpu\")\n",
    "device = torch.device(\"cpu\")\n",
    "device"
   ]
  },
  {
   "cell_type": "code",
   "execution_count": 8,
   "id": "bec549ee",
   "metadata": {},
   "outputs": [],
   "source": [
    "model = model.to(device)"
   ]
  },
  {
   "cell_type": "code",
   "execution_count": 20,
   "id": "df7cf542",
   "metadata": {},
   "outputs": [],
   "source": [
    "class_names = ['fake', 'real']"
   ]
  },
  {
   "cell_type": "code",
   "execution_count": 25,
   "id": "0bca7c59",
   "metadata": {},
   "outputs": [],
   "source": [
    "# filename = '1.jpg'\n",
    "def inference_img(filename):\n",
    "\n",
    "    basename, extension = os.path.splitext(filename)\n",
    "    resaved = 'resaved.jpg'\n",
    "    ela = 'ela.png'\n",
    "    im = Image.open(filename)\n",
    "    im.save(resaved, 'JPEG', quality=90)\n",
    "    resaved_im = Image.open(resaved)\n",
    "\n",
    "    ela_im = ImageChops.difference(im, resaved_im)\n",
    "    extrema = ela_im.getextrema()\n",
    "    max_diff = max([ex[1] for ex in extrema])\n",
    "    scale = 255.0/max_diff\n",
    "\n",
    "    ela_im = ImageEnhance.Brightness(ela_im).enhance(scale)\n",
    "\n",
    "    #     print('Maximum difference was {}'.format(max_diff))\n",
    "    ela_im.save(ela)\n",
    "    img_test = Image.open(ela)\n",
    "    img_transforms = data_transforms(img_test)\n",
    "    img_transforms.shape\n",
    "    img_unsquueeze = img_transforms.unsqueeze(0).to(device)\n",
    "    model.eval().to(device)\n",
    "    output = model(img_unsquueeze)\n",
    "    _, preds = torch.max(output, 1)\n",
    "    return class_names[int(preds)]"
   ]
  },
  {
   "cell_type": "code",
   "execution_count": 28,
   "id": "22cc17d5",
   "metadata": {},
   "outputs": [
    {
     "data": {
      "text/plain": [
       "'fake'"
      ]
     },
     "execution_count": 28,
     "metadata": {},
     "output_type": "execute_result"
    }
   ],
   "source": [
    "filename = 'D:/Download/CMND MAT SAU fraud/CMND MAT SAU3 49.jpg'\n",
    "p = inference_img(filename)\n",
    "p"
   ]
  }
 ],
 "metadata": {
  "kernelspec": {
   "display_name": "Python 3",
   "language": "python",
   "name": "python3"
  },
  "language_info": {
   "codemirror_mode": {
    "name": "ipython",
    "version": 3
   },
   "file_extension": ".py",
   "mimetype": "text/x-python",
   "name": "python",
   "nbconvert_exporter": "python",
   "pygments_lexer": "ipython3",
   "version": "3.6.8"
  }
 },
 "nbformat": 4,
 "nbformat_minor": 5
}
