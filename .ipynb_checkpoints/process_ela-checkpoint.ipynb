{
 "cells": [
  {
   "cell_type": "code",
   "execution_count": null,
   "id": "e2492076",
   "metadata": {},
   "outputs": [],
   "source": [
    "import os\n",
    "import sys\n",
    "from tqdm import tqdm\n",
    "\n",
    "from PIL import Image\n",
    "from PIL import ImageChops\n",
    "from PIL import ImageEnhance"
   ]
  },
  {
   "cell_type": "code",
   "execution_count": null,
   "id": "a9b939d7",
   "metadata": {},
   "outputs": [],
   "source": [
    "for filename in tqdm(os.listdir('D:/Code/Tima_Onbroading/ELA/datatest_private/real')):\n",
    "    basename, extension = os.path.splitext(filename)\n",
    "    resaved = 'real/' + basename + '.resaved.jpg'\n",
    "    ela = 'real/' + basename + '.ela.png'\n",
    "    im = Image.open('D:/Code/Tima_Onbroading/ELA/datatest_private/real/' + filename)\n",
    "    im.save(resaved, 'JPEG', quality=90)\n",
    "    resaved_im = Image.open(resaved)\n",
    "\n",
    "    ela_im = ImageChops.difference(im, resaved_im)\n",
    "    extrema = ela_im.getextrema()\n",
    "    max_diff = max([ex[1] for ex in extrema])\n",
    "    scale = 255.0/max_diff\n",
    "\n",
    "    ela_im = ImageEnhance.Brightness(ela_im).enhance(scale)\n",
    "\n",
    "#     print('Maximum difference was {}'.format(max_diff))\n",
    "    ela_im.save(ela)"
   ]
  },
  {
   "cell_type": "code",
   "execution_count": null,
   "id": "614cc639",
   "metadata": {},
   "outputs": [],
   "source": [
    "for filename in tqdm(os.listdir('D:/Code/Tima_Onbroading/ELA/fake')):\n",
    "    if 'ela' not in filename:\n",
    "        os.remove(\"D:/Code/Tima_Onbroading/ELA/fake/\" + filename)"
   ]
  }
 ],
 "metadata": {
  "kernelspec": {
   "display_name": "Python 3",
   "language": "python",
   "name": "python3"
  },
  "language_info": {
   "codemirror_mode": {
    "name": "ipython",
    "version": 3
   },
   "file_extension": ".py",
   "mimetype": "text/x-python",
   "name": "python",
   "nbconvert_exporter": "python",
   "pygments_lexer": "ipython3",
   "version": "3.6.8"
  }
 },
 "nbformat": 4,
 "nbformat_minor": 5
}
