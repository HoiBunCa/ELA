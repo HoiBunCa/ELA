{
 "cells": [
  {
   "cell_type": "code",
   "execution_count": 1,
   "id": "7da043d4",
   "metadata": {},
   "outputs": [],
   "source": [
    "import os\n",
    "import sys\n",
    "import torch\n",
    "import torch.nn as nn\n",
    "import torch.optim as optim\n",
    "import numpy as np\n",
    "import torchvision\n",
    "import matplotlib.pyplot as plt\n",
    "import time\n",
    "import os\n",
    "import copy\n",
    "\n",
    "from tqdm import tqdm\n",
    "from PIL import Image\n",
    "from PIL import ImageChops\n",
    "from PIL import ImageEnhance\n",
    "from torchvision import datasets, models, transforms\n",
    "from torch.optim import lr_scheduler"
   ]
  },
  {
   "cell_type": "code",
   "execution_count": 2,
   "id": "dda10e74",
   "metadata": {},
   "outputs": [],
   "source": [
    "model = torch.load(\"model_ela.pt\")"
   ]
  },
  {
   "cell_type": "code",
   "execution_count": 3,
   "id": "4b4d916d",
   "metadata": {},
   "outputs": [
    {
     "data": {
      "text/plain": [
       "device(type='cpu')"
      ]
     },
     "execution_count": 3,
     "metadata": {},
     "output_type": "execute_result"
    }
   ],
   "source": [
    "# Data augmentation and normalization for training\n",
    "# Just normalization for validation\n",
    "data_transforms = transforms.Compose([\n",
    "    transforms.RandomResizedCrop(224),\n",
    "    transforms.RandomHorizontalFlip(),\n",
    "    transforms.ToTensor(),\n",
    "    transforms.Normalize([0.485, 0.456, 0.406], [0.229, 0.224, 0.225])\n",
    "])\n",
    "\n",
    "\n",
    "device = torch.device(\"cuda:0\" if torch.cuda.is_available() else \"cpu\")\n",
    "# device = torch.device(\"cpu\")\n",
    "device"
   ]
  },
  {
   "cell_type": "code",
   "execution_count": 4,
   "id": "03b89bd7",
   "metadata": {},
   "outputs": [],
   "source": [
    "model = model.to(device)"
   ]
  },
  {
   "cell_type": "code",
   "execution_count": 5,
   "id": "cbbb5a6d",
   "metadata": {},
   "outputs": [],
   "source": [
    "class_names = ['fake', 'real']"
   ]
  },
  {
   "cell_type": "code",
   "execution_count": 6,
   "id": "190b1836",
   "metadata": {},
   "outputs": [],
   "source": [
    "acc = torch.nn.Softmax(dim=1)"
   ]
  },
  {
   "cell_type": "code",
   "execution_count": 7,
   "id": "5841745d",
   "metadata": {},
   "outputs": [],
   "source": [
    "# filename = '1.jpg'\n",
    "def inference_img(filename):\n",
    "\n",
    "    basename, extension = os.path.splitext(filename)\n",
    "    resaved = 'resaved.jpg'\n",
    "    ela = 'ela.png'\n",
    "    im = Image.open(filename)\n",
    "    im.save(resaved, 'JPEG', quality=90)\n",
    "    resaved_im = Image.open(resaved)\n",
    "\n",
    "    ela_im = ImageChops.difference(im, resaved_im)\n",
    "    extrema = ela_im.getextrema()\n",
    "    max_diff = max([ex[1] for ex in extrema])\n",
    "    scale = 255.0/max_diff\n",
    "\n",
    "    ela_im = ImageEnhance.Brightness(ela_im).enhance(scale)\n",
    "\n",
    "    #     print('Maximum difference was {}'.format(max_diff))\n",
    "    ela_im.save(ela)\n",
    "    img_test = Image.open(ela)\n",
    "    img_transforms = data_transforms(img_test)\n",
    "    img_transforms.shape\n",
    "    img_unsquueeze = img_transforms.unsqueeze(0).to(device)\n",
    "    model.eval().to(device)\n",
    "    output = model(img_unsquueeze)\n",
    "    \n",
    "    \n",
    "    _, preds = torch.max(output, 1)\n",
    "    return class_names[int(preds)], max(max(acc(output))).item()"
   ]
  },
  {
   "cell_type": "code",
   "execution_count": 11,
   "id": "15b7aba0",
   "metadata": {},
   "outputs": [
    {
     "name": "stdout",
     "output_type": "stream",
     "text": [
      "fake\n",
      "0.9989989399909973\n"
     ]
    }
   ],
   "source": [
    "filename = 'D:/Code/Tima_Onbroading/ELA/datatest_private/fake/CMND MAT SAU 2.jpg'\n",
    "label, score = inference_img(filename)\n",
    "print(label)\n",
    "print(score)"
   ]
  },
  {
   "cell_type": "code",
   "execution_count": null,
   "id": "45a13d10",
   "metadata": {},
   "outputs": [],
   "source": []
  }
 ],
 "metadata": {
  "kernelspec": {
   "display_name": "Python 3",
   "language": "python",
   "name": "python3"
  },
  "language_info": {
   "codemirror_mode": {
    "name": "ipython",
    "version": 3
   },
   "file_extension": ".py",
   "mimetype": "text/x-python",
   "name": "python",
   "nbconvert_exporter": "python",
   "pygments_lexer": "ipython3",
   "version": "3.6.8"
  }
 },
 "nbformat": 4,
 "nbformat_minor": 5
}
